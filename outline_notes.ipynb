{
 "cells": [
  {
   "cell_type": "markdown",
   "id": "562c03d9",
   "metadata": {},
   "source": [
    "## Summary outlines\n",
    "### Goal: Summarize image /video related competitions in Kaggle\n",
    "\n",
    "#### What kind of problems user are interested in image/video AI techniques?\n",
    "\n",
    "According to the analysis on the write_up csv filer, there are 3127 records in total and 1149 records are related to image or video topic, which take up to 36%. According to the topic summary, there are 310 competitions in total while 171 are related to the visual competitions, more than half of the competitions in Kaggle for the last 2 year are about image/video. In general, the image/video related AI competition are the most popular topic in Kaggle AI competition.\n"
   ]
  },
  {
   "cell_type": "markdown",
   "id": "d83c78b4",
   "metadata": {},
   "source": [
    "#### What do users find in certain areas? (Medical / Health care / Geography)\n",
    "After extracting all the titles related to the imgae/video competitions, we're trying to figure out what area do people usually interested in image/video related AI techniques. After summarize the top 5 most frequent talked competitions, the result shows that as belows.\n",
    "\n",
    "- Human Protein Atlas - Single Cell Classification                      30\n",
    "- Cassava Leaf Disease Classification                                   28\n",
    "- Shopee - Price Match Guarantee                                        27\n",
    "- APTOS 2019 Blindness Detection                                        27\n",
    "- RANZCR CLiP - Catheter and Line Position Challenge                    24"
   ]
  },
  {
   "cell_type": "markdown",
   "id": "6d7365cc",
   "metadata": {},
   "source": [
    "The result indicates that most image/video AI technique are focused in medical area. Next is business and commercial and statellite and geography comes the third. "
   ]
  },
  {
   "cell_type": "markdown",
   "id": "4429a887",
   "metadata": {},
   "source": [
    "\n",
    "#### Is there any typical models used in image/video area research? How's their performance?\n",
    "\n",
    "From the wordnet auto generated image, it's hard to see if there is any other connections between models and research area. It's also hard to tell what's the most common used model in image AI area. Thus, we need to take a closer look to dig into the discussion board. Or we need more supplement analysis from archived metadata file.\n"
   ]
  },
  {
   "cell_type": "markdown",
   "id": "df960e46",
   "metadata": {},
   "source": [
    "#### current progress for json file\n",
    "Due to the large scale of the json file, I divided them into 200 chucks. First, I run a basic analysis on each file and filter all the passages related to 'image/video' area. Next I merged all the related items into one single and try to generate a summary on them. \n",
    "- Basic word frequency analysis on titles.\n",
    "- Basic TF-IDF analysis on abstract\n",
    "- Group by category and analyze the TF-IDF for each category"
   ]
  },
  {
   "cell_type": "code",
   "execution_count": null,
   "id": "73ee79d1",
   "metadata": {},
   "outputs": [],
   "source": []
  }
 ],
 "metadata": {
  "kernelspec": {
   "display_name": "Python 3 (ipykernel)",
   "language": "python",
   "name": "python3"
  },
  "language_info": {
   "codemirror_mode": {
    "name": "ipython",
    "version": 3
   },
   "file_extension": ".py",
   "mimetype": "text/x-python",
   "name": "python",
   "nbconvert_exporter": "python",
   "pygments_lexer": "ipython3",
   "version": "3.8.2"
  }
 },
 "nbformat": 4,
 "nbformat_minor": 5
}
