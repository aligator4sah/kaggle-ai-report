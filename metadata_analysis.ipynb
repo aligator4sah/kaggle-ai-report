{
 "cells": [
  {
   "cell_type": "code",
   "execution_count": 9,
   "metadata": {
    "execution": {
     "iopub.execute_input": "2023-06-28T01:46:43.044859Z",
     "iopub.status.busy": "2023-06-28T01:46:43.044368Z",
     "iopub.status.idle": "2023-06-28T01:46:43.133790Z",
     "shell.execute_reply": "2023-06-28T01:46:43.132582Z",
     "shell.execute_reply.started": "2023-06-28T01:46:43.044788Z"
    }
   },
   "outputs": [
    {
     "name": "stdout",
     "output_type": "stream",
     "text": [
      "                                               abstract  \\\n",
      "1995    We define a wave-function for string theory ...   \n",
      "1996    After negative temperature is restated, we f...   \n",
      "1997    A scale invariant model containing dilaton $...   \n",
      "1998    Cold dark matter haloes are populated by cau...   \n",
      "1999    We describe a search for the standard model ...   \n",
      "\n",
      "                                              authors  \\\n",
      "1995  Costas Kounnas, Nicolaos Toumbas and Jan Troost   \n",
      "1996                                    Yi-Fang Chang   \n",
      "1997            E. I. Guendelman and A. B. Kaganovich   \n",
      "1998     Roya Mohayaee, Sergei Shandarin, Joseph Silk   \n",
      "1999               D0 Collaboration, V. Abazov, et al   \n",
      "\n",
      "                                         authors_parsed  \\\n",
      "1995  [[Kounnas, Costas, ], [Toumbas, Nicolaos, ], [...   \n",
      "1996                               [[Chang, Yi-Fang, ]]   \n",
      "1997     [[Guendelman, E. I., ], [Kaganovich, A. B., ]]   \n",
      "1998  [[Mohayaee, Roya, ], [Shandarin, Sergei, ], [S...   \n",
      "1999           [[D0 Collaboration, , ], [Abazov, V., ]]   \n",
      "\n",
      "                 categories  \\\n",
      "1995                 hep-th   \n",
      "1996         physics.gen-ph   \n",
      "1997  gr-qc astro-ph hep-th   \n",
      "1998               astro-ph   \n",
      "1999                 hep-ex   \n",
      "\n",
      "                                               comments  \\\n",
      "1995          30 pages, 3 figures, v3: references added   \n",
      "1996                                            9 pages   \n",
      "1997  23 pages, some explanations expanded, misprint...   \n",
      "1998              To appear in JCAP, 4 pages, 3 figures   \n",
      "1999     8 pages, 2 figures. Submitted to Phys. Lett. B   \n",
      "\n",
      "                                 doi         id                  journal-ref  \\\n",
      "1995   10.1088/1126-6708/2007/08/018  0704.1996           JHEP 0708:018,2007   \n",
      "1996                            None  0704.1997                         None   \n",
      "1997       10.1016/j.aop.2007.09.003  0704.1998  AnnalsPhys.323:866-882,2008   \n",
      "1998   10.1088/1475-7516/2007/05/015  0704.1999           JCAP 0705:015,2007   \n",
      "1999  10.1016/j.physletb.2007.08.070  0704.2000  Phys.Lett.B655:209-216,2007   \n",
      "\n",
      "     license              report-no                submitter  \\\n",
      "1995    None           LPTENS-07/16               Troost Jan   \n",
      "1996    None                   None            Yi-Fang Chang   \n",
      "1997    None                   None  Alexander Kaganovich B.   \n",
      "1998    None                   None            Roya Mohayaee   \n",
      "1999    None  FERMILAB-PUB-07-076-E            John D. Hobbs   \n",
      "\n",
      "                                                  title update_date  \\\n",
      "1995              A Wave-function for Stringy Universes  2009-11-13   \n",
      "1996  Query on Negative Temperature, Internal Intera...  2007-05-23   \n",
      "1997  Absence of the Fifth Force Problem in a Model ...  2008-11-26   \n",
      "1998  Dark matter caustics and the enhancement of se...  2009-11-13   \n",
      "1999  Search for a Higgs boson produced in associati...  2008-11-26   \n",
      "\n",
      "                                               versions  \n",
      "1995  [{'version': 'v1', 'created': 'Mon, 16 Apr 200...  \n",
      "1996  [{'version': 'v1', 'created': 'Mon, 16 Apr 200...  \n",
      "1997  [{'version': 'v1', 'created': 'Mon, 16 Apr 200...  \n",
      "1998  [{'version': 'v1', 'created': 'Mon, 16 Apr 200...  \n",
      "1999  [{'version': 'v1', 'created': 'Mon, 16 Apr 200...  \n"
     ]
    }
   ],
   "source": [
    "import json\n",
    "import pandas as pd\n",
    "\n",
    "with open('extract_metadata.json', 'r') as f:\n",
    "    data = json.load(f)\n",
    "\n",
    "df = pd.DataFrame.from_dict(data)\n",
    "    \n",
    "print(df.tail())"
   ]
  },
  {
   "cell_type": "code",
   "execution_count": null,
   "metadata": {},
   "outputs": [],
   "source": []
  },
  {
   "cell_type": "code",
   "execution_count": 10,
   "metadata": {
    "execution": {
     "iopub.execute_input": "2023-06-28T01:49:00.893001Z",
     "iopub.status.busy": "2023-06-28T01:49:00.892504Z",
     "iopub.status.idle": "2023-06-28T01:49:00.899852Z",
     "shell.execute_reply": "2023-06-28T01:49:00.898318Z",
     "shell.execute_reply.started": "2023-06-28T01:49:00.892945Z"
    }
   },
   "outputs": [],
   "source": [
    "text = \" \".join(titl for titl in df.title)"
   ]
  },
  {
   "cell_type": "code",
   "execution_count": 11,
   "metadata": {
    "execution": {
     "iopub.execute_input": "2023-06-28T01:49:20.865296Z",
     "iopub.status.busy": "2023-06-28T01:49:20.864799Z",
     "iopub.status.idle": "2023-06-28T01:49:20.886338Z",
     "shell.execute_reply": "2023-06-28T01:49:20.884962Z",
     "shell.execute_reply.started": "2023-06-28T01:49:20.865236Z"
    }
   },
   "outputs": [
    {
     "ename": "ImportError",
     "evalue": "No module named 'wordcloud'",
     "output_type": "error",
     "traceback": [
      "\u001b[0;31mImportError\u001b[0m\u001b[0;31m:\u001b[0m No module named 'wordcloud'\n"
     ]
    }
   ],
   "source": [
    "# Start with loading all necessary libraries\n",
    "import numpy as np\n",
    "import pandas as pd\n",
    "from os import path\n",
    "from PIL import Image\n",
    "from wordcloud import WordCloud, STOPWORDS, ImageColorGenerator\n",
    "import matplotlib.pyplot as plt"
   ]
  },
  {
   "cell_type": "code",
   "execution_count": 12,
   "metadata": {
    "execution": {
     "iopub.execute_input": "2023-06-28T01:49:43.781263Z",
     "iopub.status.busy": "2023-06-28T01:49:43.780760Z",
     "iopub.status.idle": "2023-06-28T01:49:43.791150Z",
     "shell.execute_reply": "2023-06-28T01:49:43.789604Z",
     "shell.execute_reply.started": "2023-06-28T01:49:43.781201Z"
    }
   },
   "outputs": [
    {
     "ename": "NameError",
     "evalue": "name 'WordCloud' is not defined",
     "output_type": "error",
     "traceback": [
      "\u001b[0;31mNameError\u001b[0m\u001b[0;31m:\u001b[0m name 'WordCloud' is not defined\n"
     ]
    }
   ],
   "source": [
    "wordcloud = WordCloud(stopwords=stopwords, max_font_size=50, max_words=500,\n",
    "                      width = 600, height = 400,\n",
    "                      colormap='Purples',\n",
    "                      background_color=\"orange\").generate(text)\n",
    "plt.figure(figsize=(12,8))\n",
    "plt.imshow(wordcloud, interpolation=\"bilinear\")\n",
    "plt.axis(\"off\")\n",
    "plt.show()"
   ]
  },
  {
   "cell_type": "code",
   "execution_count": null,
   "metadata": {},
   "outputs": [],
   "source": []
  }
 ],
 "metadata": {
  "kernelspec": {
   "display_name": "Python3",
   "language": "python",
   "name": "Python3"
  },
  "language_info": {
   "codemirror_mode": {
    "name": "ipython",
    "version": 3
   },
   "file_extension": ".py",
   "mimetype": "text/x-python",
   "name": "python",
   "nbconvert_exporter": "python",
   "pygments_lexer": "ipython3",
   "version": "3.5.2"
  }
 },
 "nbformat": 4,
 "nbformat_minor": 4
}
