{
  "nbformat": 4,
  "nbformat_minor": 0,
  "metadata": {
    "colab": {
      "provenance": [],
      "gpuType": "T4",
      "mount_file_id": "1DtAPS3bkY-oHN5NZa19NOFfQONYAYL0b",
      "authorship_tag": "ABX9TyPOnzVO+NDOY5pxXwGP+1s/",
      "include_colab_link": true
    },
    "kernelspec": {
      "name": "python3",
      "display_name": "Python 3"
    },
    "language_info": {
      "name": "python"
    }
  },
  "cells": [
    {
      "cell_type": "markdown",
      "metadata": {
        "id": "view-in-github",
        "colab_type": "text"
      },
      "source": [
        "<a href=\"https://colab.research.google.com/github/aligator4sah/kaggle-ai-report/blob/main/Kaggle_AI_Report_Overview.ipynb\" target=\"_parent\"><img src=\"https://colab.research.google.com/assets/colab-badge.svg\" alt=\"Open In Colab\"/></a>"
      ]
    },
    {
      "cell_type": "markdown",
      "source": [
        "Overview for write_up dataset"
      ],
      "metadata": {
        "id": "UvrnRiWS_Xdk"
      }
    },
    {
      "cell_type": "code",
      "execution_count": 8,
      "metadata": {
        "colab": {
          "base_uri": "https://localhost:8080/",
          "height": 635
        },
        "id": "1_LxxWrIyu56",
        "outputId": "3a6c6895-fef4-4578-808d-81b100b6bbd8"
      },
      "outputs": [
        {
          "output_type": "execute_result",
          "data": {
            "text/plain": [
              "  Competition Launch Date                              Title of Competition  \\\n",
              "0     08/03/2010 00:00:00  Chess ratings - Elo versus the Rest of the World   \n",
              "1     08/03/2010 00:00:00  Chess ratings - Elo versus the Rest of the World   \n",
              "2     08/03/2010 00:00:00  Chess ratings - Elo versus the Rest of the World   \n",
              "3     08/03/2010 00:00:00  Chess ratings - Elo versus the Rest of the World   \n",
              "4     08/03/2010 00:00:00  Chess ratings - Elo versus the Rest of the World   \n",
              "\n",
              "                 Competition URL      Date of Writeup  \\\n",
              "0  https://www.kaggle.com/c/2447  11/18/2010 00:06:46   \n",
              "1  https://www.kaggle.com/c/2447  11/20/2010 04:38:53   \n",
              "2  https://www.kaggle.com/c/2447  11/23/2010 10:38:23   \n",
              "3  https://www.kaggle.com/c/2447  11/20/2010 11:27:17   \n",
              "4  https://www.kaggle.com/c/2447  11/18/2010 02:44:10   \n",
              "\n",
              "                        Title of Writeup  \\\n",
              "0  Released: my Source Code and Analysis   \n",
              "1           6th place(UriB) by Uri Blass   \n",
              "2                 7th place - littlefish   \n",
              "3      3rd place: Chessmetrics - Variant   \n",
              "4      2nd place: TrueSkill Through Time   \n",
              "\n",
              "                                             Writeup  \\\n",
              "0  <p>I had a lot of fun with this competition an...   \n",
              "1  <P>I calculated rating for every player in mon...   \n",
              "2  I'm a little surprised I ended up in the top-1...   \n",
              "3  <p><span id=\"post_text_content_1230\"><div dir=...   \n",
              "4  Wow, this is a surprise! I looked at this comp...   \n",
              "\n",
              "                                    Writeup URL  \n",
              "0  https://www.kaggle.com/c/2447/discussion/185  \n",
              "1  https://www.kaggle.com/c/2447/discussion/192  \n",
              "2  https://www.kaggle.com/c/2447/discussion/194  \n",
              "3  https://www.kaggle.com/c/2447/discussion/193  \n",
              "4  https://www.kaggle.com/c/2447/discussion/186  "
            ],
            "text/html": [
              "\n",
              "  <div id=\"df-ef5a179d-8679-4fdb-908b-a50ff2bceef7\">\n",
              "    <div class=\"colab-df-container\">\n",
              "      <div>\n",
              "<style scoped>\n",
              "    .dataframe tbody tr th:only-of-type {\n",
              "        vertical-align: middle;\n",
              "    }\n",
              "\n",
              "    .dataframe tbody tr th {\n",
              "        vertical-align: top;\n",
              "    }\n",
              "\n",
              "    .dataframe thead th {\n",
              "        text-align: right;\n",
              "    }\n",
              "</style>\n",
              "<table border=\"1\" class=\"dataframe\">\n",
              "  <thead>\n",
              "    <tr style=\"text-align: right;\">\n",
              "      <th></th>\n",
              "      <th>Competition Launch Date</th>\n",
              "      <th>Title of Competition</th>\n",
              "      <th>Competition URL</th>\n",
              "      <th>Date of Writeup</th>\n",
              "      <th>Title of Writeup</th>\n",
              "      <th>Writeup</th>\n",
              "      <th>Writeup URL</th>\n",
              "    </tr>\n",
              "  </thead>\n",
              "  <tbody>\n",
              "    <tr>\n",
              "      <th>0</th>\n",
              "      <td>08/03/2010 00:00:00</td>\n",
              "      <td>Chess ratings - Elo versus the Rest of the World</td>\n",
              "      <td>https://www.kaggle.com/c/2447</td>\n",
              "      <td>11/18/2010 00:06:46</td>\n",
              "      <td>Released: my Source Code and Analysis</td>\n",
              "      <td>&lt;p&gt;I had a lot of fun with this competition an...</td>\n",
              "      <td>https://www.kaggle.com/c/2447/discussion/185</td>\n",
              "    </tr>\n",
              "    <tr>\n",
              "      <th>1</th>\n",
              "      <td>08/03/2010 00:00:00</td>\n",
              "      <td>Chess ratings - Elo versus the Rest of the World</td>\n",
              "      <td>https://www.kaggle.com/c/2447</td>\n",
              "      <td>11/20/2010 04:38:53</td>\n",
              "      <td>6th place(UriB) by Uri Blass</td>\n",
              "      <td>&lt;P&gt;I calculated rating for every player in mon...</td>\n",
              "      <td>https://www.kaggle.com/c/2447/discussion/192</td>\n",
              "    </tr>\n",
              "    <tr>\n",
              "      <th>2</th>\n",
              "      <td>08/03/2010 00:00:00</td>\n",
              "      <td>Chess ratings - Elo versus the Rest of the World</td>\n",
              "      <td>https://www.kaggle.com/c/2447</td>\n",
              "      <td>11/23/2010 10:38:23</td>\n",
              "      <td>7th place - littlefish</td>\n",
              "      <td>I'm a little surprised I ended up in the top-1...</td>\n",
              "      <td>https://www.kaggle.com/c/2447/discussion/194</td>\n",
              "    </tr>\n",
              "    <tr>\n",
              "      <th>3</th>\n",
              "      <td>08/03/2010 00:00:00</td>\n",
              "      <td>Chess ratings - Elo versus the Rest of the World</td>\n",
              "      <td>https://www.kaggle.com/c/2447</td>\n",
              "      <td>11/20/2010 11:27:17</td>\n",
              "      <td>3rd place: Chessmetrics - Variant</td>\n",
              "      <td>&lt;p&gt;&lt;span id=\"post_text_content_1230\"&gt;&lt;div dir=...</td>\n",
              "      <td>https://www.kaggle.com/c/2447/discussion/193</td>\n",
              "    </tr>\n",
              "    <tr>\n",
              "      <th>4</th>\n",
              "      <td>08/03/2010 00:00:00</td>\n",
              "      <td>Chess ratings - Elo versus the Rest of the World</td>\n",
              "      <td>https://www.kaggle.com/c/2447</td>\n",
              "      <td>11/18/2010 02:44:10</td>\n",
              "      <td>2nd place: TrueSkill Through Time</td>\n",
              "      <td>Wow, this is a surprise! I looked at this comp...</td>\n",
              "      <td>https://www.kaggle.com/c/2447/discussion/186</td>\n",
              "    </tr>\n",
              "  </tbody>\n",
              "</table>\n",
              "</div>\n",
              "      <button class=\"colab-df-convert\" onclick=\"convertToInteractive('df-ef5a179d-8679-4fdb-908b-a50ff2bceef7')\"\n",
              "              title=\"Convert this dataframe to an interactive table.\"\n",
              "              style=\"display:none;\">\n",
              "        \n",
              "  <svg xmlns=\"http://www.w3.org/2000/svg\" height=\"24px\"viewBox=\"0 0 24 24\"\n",
              "       width=\"24px\">\n",
              "    <path d=\"M0 0h24v24H0V0z\" fill=\"none\"/>\n",
              "    <path d=\"M18.56 5.44l.94 2.06.94-2.06 2.06-.94-2.06-.94-.94-2.06-.94 2.06-2.06.94zm-11 1L8.5 8.5l.94-2.06 2.06-.94-2.06-.94L8.5 2.5l-.94 2.06-2.06.94zm10 10l.94 2.06.94-2.06 2.06-.94-2.06-.94-.94-2.06-.94 2.06-2.06.94z\"/><path d=\"M17.41 7.96l-1.37-1.37c-.4-.4-.92-.59-1.43-.59-.52 0-1.04.2-1.43.59L10.3 9.45l-7.72 7.72c-.78.78-.78 2.05 0 2.83L4 21.41c.39.39.9.59 1.41.59.51 0 1.02-.2 1.41-.59l7.78-7.78 2.81-2.81c.8-.78.8-2.07 0-2.86zM5.41 20L4 18.59l7.72-7.72 1.47 1.35L5.41 20z\"/>\n",
              "  </svg>\n",
              "      </button>\n",
              "      \n",
              "  <style>\n",
              "    .colab-df-container {\n",
              "      display:flex;\n",
              "      flex-wrap:wrap;\n",
              "      gap: 12px;\n",
              "    }\n",
              "\n",
              "    .colab-df-convert {\n",
              "      background-color: #E8F0FE;\n",
              "      border: none;\n",
              "      border-radius: 50%;\n",
              "      cursor: pointer;\n",
              "      display: none;\n",
              "      fill: #1967D2;\n",
              "      height: 32px;\n",
              "      padding: 0 0 0 0;\n",
              "      width: 32px;\n",
              "    }\n",
              "\n",
              "    .colab-df-convert:hover {\n",
              "      background-color: #E2EBFA;\n",
              "      box-shadow: 0px 1px 2px rgba(60, 64, 67, 0.3), 0px 1px 3px 1px rgba(60, 64, 67, 0.15);\n",
              "      fill: #174EA6;\n",
              "    }\n",
              "\n",
              "    [theme=dark] .colab-df-convert {\n",
              "      background-color: #3B4455;\n",
              "      fill: #D2E3FC;\n",
              "    }\n",
              "\n",
              "    [theme=dark] .colab-df-convert:hover {\n",
              "      background-color: #434B5C;\n",
              "      box-shadow: 0px 1px 3px 1px rgba(0, 0, 0, 0.15);\n",
              "      filter: drop-shadow(0px 1px 2px rgba(0, 0, 0, 0.3));\n",
              "      fill: #FFFFFF;\n",
              "    }\n",
              "  </style>\n",
              "\n",
              "      <script>\n",
              "        const buttonEl =\n",
              "          document.querySelector('#df-ef5a179d-8679-4fdb-908b-a50ff2bceef7 button.colab-df-convert');\n",
              "        buttonEl.style.display =\n",
              "          google.colab.kernel.accessAllowed ? 'block' : 'none';\n",
              "\n",
              "        async function convertToInteractive(key) {\n",
              "          const element = document.querySelector('#df-ef5a179d-8679-4fdb-908b-a50ff2bceef7');\n",
              "          const dataTable =\n",
              "            await google.colab.kernel.invokeFunction('convertToInteractive',\n",
              "                                                     [key], {});\n",
              "          if (!dataTable) return;\n",
              "\n",
              "          const docLinkHtml = 'Like what you see? Visit the ' +\n",
              "            '<a target=\"_blank\" href=https://colab.research.google.com/notebooks/data_table.ipynb>data table notebook</a>'\n",
              "            + ' to learn more about interactive tables.';\n",
              "          element.innerHTML = '';\n",
              "          dataTable['output_type'] = 'display_data';\n",
              "          await google.colab.output.renderOutput(dataTable, element);\n",
              "          const docLink = document.createElement('div');\n",
              "          docLink.innerHTML = docLinkHtml;\n",
              "          element.appendChild(docLink);\n",
              "        }\n",
              "      </script>\n",
              "    </div>\n",
              "  </div>\n",
              "  "
            ]
          },
          "metadata": {},
          "execution_count": 8
        }
      ],
      "source": [
        "import pandas as pd\n",
        "import csv\n",
        "\n",
        "with open(\"/content/kaggle_writeups_20230510.csv\") as file:\n",
        "  csv_reader = csv.reader(file)\n",
        "\n",
        "write_ups1 = pd.read_csv('/content/kaggle_writeups_20230510.csv', on_bad_lines='skip', engine='python')\n",
        "write_ups1.head()"
      ]
    },
    {
      "cell_type": "markdown",
      "source": [],
      "metadata": {
        "id": "-j-kbfc2EI8n"
      }
    },
    {
      "cell_type": "code",
      "source": [
        "write_ups1.info()"
      ],
      "metadata": {
        "colab": {
          "base_uri": "https://localhost:8080/"
        },
        "id": "4xVwpsZRAARE",
        "outputId": "e8e001c6-6e73-470b-f61e-3d36a033ae6b"
      },
      "execution_count": 9,
      "outputs": [
        {
          "output_type": "stream",
          "name": "stdout",
          "text": [
            "<class 'pandas.core.frame.DataFrame'>\n",
            "RangeIndex: 387 entries, 0 to 386\n",
            "Data columns (total 7 columns):\n",
            " #   Column                   Non-Null Count  Dtype \n",
            "---  ------                   --------------  ----- \n",
            " 0   Competition Launch Date  387 non-null    object\n",
            " 1   Title of Competition     387 non-null    object\n",
            " 2   Competition URL          387 non-null    object\n",
            " 3   Date of Writeup          387 non-null    object\n",
            " 4   Title of Writeup         387 non-null    object\n",
            " 5   Writeup                  386 non-null    object\n",
            " 6   Writeup URL              387 non-null    object\n",
            "dtypes: object(7)\n",
            "memory usage: 21.3+ KB\n"
          ]
        }
      ]
    },
    {
      "cell_type": "code",
      "source": [
        "write_ups1['Title of Competition'].nunique()"
      ],
      "metadata": {
        "colab": {
          "base_uri": "https://localhost:8080/"
        },
        "id": "JmAnuBBgAOCm",
        "outputId": "e00c5ab7-a8c4-4262-ebd4-9f286c588ffb"
      },
      "execution_count": 10,
      "outputs": [
        {
          "output_type": "execute_result",
          "data": {
            "text/plain": [
              "123"
            ]
          },
          "metadata": {},
          "execution_count": 10
        }
      ]
    },
    {
      "cell_type": "code",
      "source": [
        "write_ups1.loc[164].Writeup"
      ],
      "metadata": {
        "colab": {
          "base_uri": "https://localhost:8080/",
          "height": 87
        },
        "id": "3jjzcHKiCNBJ",
        "outputId": "54ea6800-a935-44a3-ae4a-2239be1ed19e"
      },
      "execution_count": 15,
      "outputs": [
        {
          "output_type": "execute_result",
          "data": {
            "text/plain": [
              "'<p>I got a lot of requests during the competition for a benchmark script. So, as promised, here it is.... After all, its all about learning :D</p>\\n\\n<p>The script will easily give you 0.80+ in  Public LB. In Private LB, you can easily get a top 10% rank using this script. With some modifications, this script gives top 30 rank out of 2200+ competitors.... not bad ha?! ;)</p>'"
            ],
            "application/vnd.google.colaboratory.intrinsic+json": {
              "type": "string"
            }
          },
          "metadata": {},
          "execution_count": 15
        }
      ]
    },
    {
      "cell_type": "code",
      "source": [
        "language_comps = write_ups1[(write_ups1.Writeup.str.contains(\n",
        "    'language', 'text') | write_ups1['Title of Competition'].str.contains(\n",
        "    'language')).fillna(False)]['Title of Competition'].unique()\n",
        "print(f\"How many now: {len(language_comps)}\")\n",
        "language_comps"
      ],
      "metadata": {
        "colab": {
          "base_uri": "https://localhost:8080/"
        },
        "id": "kElwKks1CqJl",
        "outputId": "05140ede-9d7c-4685-e0c6-7f6ad2e49104"
      },
      "execution_count": 19,
      "outputs": [
        {
          "output_type": "stream",
          "name": "stdout",
          "text": [
            "How many now: 9\n"
          ]
        },
        {
          "output_type": "execute_result",
          "data": {
            "text/plain": [
              "array(['Chess ratings - Elo versus the Rest of the World',\n",
              "       \"dunnhumby's Shopper Challenge\",\n",
              "       'StumbleUpon Evergreen Classification Challenge',\n",
              "       'Microsoft Malware Classification Challenge (BIG 2015)',\n",
              "       'Flavours of Physics: Finding τ  →  μμμ',\n",
              "       'TalkingData Mobile User Demographics',\n",
              "       'Bosch Production Line Performance',\n",
              "       'Text Normalization Challenge - Russian Language',\n",
              "       'Cdiscount’s Image Classification Challenge'], dtype=object)"
            ]
          },
          "metadata": {},
          "execution_count": 19
        }
      ]
    },
    {
      "cell_type": "markdown",
      "source": [
        "Overview for metadata dataset"
      ],
      "metadata": {
        "id": "VzUeEuPYEMPE"
      }
    },
    {
      "cell_type": "code",
      "source": [
        "arxiv_metadata = pd.read_json(\"/content/arxiv_metadata_20230510.json\", \n",
        "                              lines=True,\n",
        "                             convert_dates=True)\n",
        "arxiv_metadata.head() "
      ],
      "metadata": {
        "id": "4S-zegJFESLz"
      },
      "execution_count": null,
      "outputs": []
    },
    {
      "cell_type": "code",
      "source": [
        "from google.colab import drive\n",
        "drive.mount('/content/drive')"
      ],
      "metadata": {
        "id": "CQ9hPbtWKT3K"
      },
      "execution_count": null,
      "outputs": []
    }
  ]
}